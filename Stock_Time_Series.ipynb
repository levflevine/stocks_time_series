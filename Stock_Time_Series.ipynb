{
 "cells": [
  {
   "cell_type": "code",
   "execution_count": null,
   "id": "f11c1d80",
   "metadata": {},
   "outputs": [],
   "source": [
    "import pandas as pd\n",
    "import numpy as np\n",
    "import json\n",
    "import os\n",
    "import requests\n",
    "from config import api_key, postgres_pass#, heroku_pass, heroku_URI\n",
    "import yfinance as yf\n",
    "from sklearn.preprocessing import StandardScaler\n",
    "import joblib\n",
    "import tensorflow as tf\n",
    "import keras"
   ]
  },
  {
   "cell_type": "code",
   "execution_count": null,
   "id": "2d86185e",
   "metadata": {},
   "outputs": [],
   "source": [
    "#Select Ticker\n",
    "ticker = 'msft'\n",
    "\n",
    "# pull Ticker details from Yahoo Finance\n",
    "history = yf.ticker.history(period=\"max\")\n",
    "events = yf.ticker.calendar"
   ]
  },
  {
   "cell_type": "code",
   "execution_count": null,
   "id": "fe254c98",
   "metadata": {},
   "outputs": [],
   "source": []
  },
  {
   "cell_type": "code",
   "execution_count": null,
   "id": "7bd2135e",
   "metadata": {},
   "outputs": [],
   "source": [
    "# Yahoo API\n",
    "\n",
    "#ticvker = 'kim'\n",
    "#endpoint = \"/v11/finance/quoteSummary/\"\n",
    "#url = \"https://yfapi.net\" + endpoint + ticker\n",
    "#querystring = {\"modules\":\"defaultKeyStatistics\"}\n",
    "\n",
    "#headers = {\n",
    "#    'x-api-key': api_key\n",
    "#    }\n",
    "\n",
    "#response = requests.request(\"GET\", url, headers=headers, params=querystring)\n",
    "\n",
    "#tick_resp = response\n",
    "#tick_resp.json()['quoteSummary']['result'][0]['defaultKeyStatistics']"
   ]
  },
  {
   "cell_type": "code",
   "execution_count": null,
   "id": "343d5ad1",
   "metadata": {},
   "outputs": [],
   "source": []
  }
 ],
 "metadata": {
  "kernelspec": {
   "display_name": "mlenv",
   "language": "python",
   "name": "mlenv"
  },
  "language_info": {
   "codemirror_mode": {
    "name": "ipython",
    "version": 3
   },
   "file_extension": ".py",
   "mimetype": "text/x-python",
   "name": "python",
   "nbconvert_exporter": "python",
   "pygments_lexer": "ipython3",
   "version": "3.7.11"
  }
 },
 "nbformat": 4,
 "nbformat_minor": 5
}
